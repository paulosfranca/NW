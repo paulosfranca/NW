{
 "cells": [
  {
   "cell_type": "code",
   "execution_count": 1,
   "metadata": {},
   "outputs": [],
   "source": [
    "import numpy as np\n",
    "import collections\n",
    "import matplotlib.pylab as plt"
   ]
  },
  {
   "cell_type": "markdown",
   "metadata": {},
   "source": [
    "### Supor primeiro que todas as firmas NW"
   ]
  },
  {
   "cell_type": "code",
   "execution_count": 2,
   "metadata": {},
   "outputs": [],
   "source": [
    "def init (A_init, K_init, rdmin_init, rdnw_init, pi_init, PI_init, q_init):\n",
    "    global A_i, K_i, im_i, in_i, rd_min, rd_nw, q_i, pi_i, nw_firms\n",
    "    A_i =  A_init\n",
    "    K_i = K_init\n",
    "    rd_min = rdmin_init\n",
    "    rd_nw = rdnw_init\n",
    "    q_i = q_init\n",
    "    pi_i = pi_init\n",
    "    PI_i = PI_init\n",
    "    nw_firms = {x: [] for x in range (40)}\n",
    "    #im_firms = {x: [] for x in range (n_firms / 2)}\n",
    "    [nw_firms[x].append([A_i, q_i, K_i, pi_i, PI_i, rd_min, rd_nw]) for x in nw_firms]\n",
    "    #[im_firms[x].append([A_i, q_i, K_i, pi_i, im_i]) for x in im_firms]"
   ]
  },
  {
   "cell_type": "code",
   "execution_count": 3,
   "metadata": {},
   "outputs": [],
   "source": [
    "def Q_updates(nw_firms):#, im_firms):\n",
    "    global Q_tot\n",
    "    Q_tot = 0\n",
    "    for i in nw_firms:\n",
    "        nw_firms[i][0][1] = nw_firms[i][0][0]*nw_firms[i][0][2] \n",
    "        Q_tot = nw_firms[i][0][1] + Q_tot\n",
    "    #for i in im_firms:\n",
    "    #    im_firms[i][0][1] = im_firms[i][0][0]*im_firms[i][0][2] \n",
    "    #   Q_tot = im_firms[i][0][1] + Q_tot"
   ]
  },
  {
   "cell_type": "code",
   "execution_count": 4,
   "metadata": {},
   "outputs": [],
   "source": [
    "def P_update (Q_tot):\n",
    "    global P\n",
    "    P = 100/(Q_tot)**(0.5)"
   ]
  },
  {
   "cell_type": "code",
   "execution_count": 5,
   "metadata": {},
   "outputs": [],
   "source": [
    "def pi_updates (nw_firms):#, im_firms, P):\n",
    "    #for i in im_firms:\n",
    "    #    im_firms[i][0][3] = P*im_firms[i][0][0] - 0.16 - im_firms[i][0][4]\n",
    "    for i in nw_firms:\n",
    "        nw_firms[i][0][3] = P*nw_firms[i][0][0] - 0.1"
   ]
  },
  {
   "cell_type": "code",
   "execution_count": 6,
   "metadata": {},
   "outputs": [],
   "source": [
    "def PI_UPDATES (nw_firms):#, im_firms, P):\n",
    "    #for i in im_firms:\n",
    "    #    im_firms[i][0][3] = P*im_firms[i][0][0] - 0.16 - im_firms[i][0][4]\n",
    "    for i in nw_firms:\n",
    "        nw_firms[i][0][4] = nw_firms[i][0][3]*nw_firms[i][0][2]"
   ]
  },
  {
   "cell_type": "code",
   "execution_count": 7,
   "metadata": {},
   "outputs": [],
   "source": [
    "def A_updates (nw_firms):\n",
    "    for i in nw_firms:\n",
    "        As = []\n",
    "        if np.random.random() < 0.225*(nw_firms[i][0][4]+nw_firms[i][0][5])*nw_firms[i][0][2]:\n",
    "            As.append(np.random.normal(nw_firms[i][0][0], 0.05))\n",
    "        if np.random.random() < 2.25*(nw_firms[i][0][4]+nw_firms[i][0][5])*nw_firms[i][0][2]:\n",
    "            A_ = max([nw_firms[x][0][0] for x in nw_firms])\n",
    "            As.append(nw_firms[i][0][0] + (0.05/10)*(A_ - nw_firms[i][0][0]))\n",
    "        As.append(nw_firms[i][0][0])\n",
    "        nw_firms[i][0][0] = max(As)\n",
    "#    for i in im_firms:\n",
    "#        As = []\n",
    "#        if np.random.random() < 1.25*im_firms[i][0][4]*im_firms[i][0][2]:\n",
    "#            As.append(max(max([in_firms[x][0][0] for x in in_firms]),\\\n",
    "#                          max([im_firms[x][0][0] for x in im_firms])))\n",
    "#        As.append(in_firms[i][0][0])\n",
    "#        im_firms[i][0][0] = max(As)"
   ]
  },
  {
   "cell_type": "code",
   "execution_count": 8,
   "metadata": {},
   "outputs": [],
   "source": [
    "def K_update(nw_firms):\n",
    "    for i in nw_firms:\n",
    "        nw_firms[i][0][2] = nw_firms[i][0][4]*(1 - max(0.03, 0.1) ) + 0.95*nw_firms[i][0][2] \n",
    "        \n",
    "    #for i in im_firms:\n",
    "    #    im_firms[i][0][2] = im_firms[i][0][2]*im_firms[i][0][5] +\\\n",
    "    #    0.97*im_firms[i][0][2] "
   ]
  },
  {
   "cell_type": "code",
   "execution_count": 9,
   "metadata": {},
   "outputs": [],
   "source": [
    "i = 1\n",
    "prices = []\n",
    "AVG_As = []\n",
    "Best_As = []\n",
    "while i <= 20:\n",
    "    init (A_init=0.16, K_init=50, rdmin_init=0.03, rdnw_init=0.1, pi_init=0, PI_init=0, q_init=0)\n",
    "    Q_updates(nw_firms=nw_firms)\n",
    "    P_update(Q_tot=Q_tot)\n",
    "    pi_updates (nw_firms=nw_firms)\n",
    "    PI_UPDATES (nw_firms=nw_firms)\n",
    "    K_update(nw_firms)\n",
    "    for j in range (6001):\n",
    "        A_updates (nw_firms=nw_firms)\n",
    "        Q_updates(nw_firms=nw_firms)\n",
    "        P_update(Q_tot=Q_tot)\n",
    "        pi_updates (nw_firms=nw_firms)\n",
    "        PI_UPDATES (nw_firms=nw_firms)\n",
    "        K_update(nw_firms)\n",
    "        if (j % 40)==0:\n",
    "            prices.append(P)\n",
    "            AVG_As.append(np.mean([nw_firms[x][0][0] for x in nw_firms]))\n",
    "            Best_As.append(max([nw_firms[x][0][0] for x in nw_firms]))\n",
    "            \n",
    "    i = i +1"
   ]
  },
  {
   "cell_type": "code",
   "execution_count": 13,
   "metadata": {},
   "outputs": [
    {
     "data": {
      "image/png": "[encoded data removed]",
      "text/plain": [
       "<matplotlib.figure.Figure at 0x7ff823a546d0>"
      ]
     },
     "metadata": {},
     "output_type": "display_data"
    }
   ],
   "source": [
    "plt.boxplot(prices,showfliers=False)\n",
    "plt.show()"
   ]
  },
  {
   "cell_type": "code",
   "execution_count": 11,
   "metadata": {},
   "outputs": [
    {
     "data": {
      "image/png": "[encoded data removed]",
      "text/plain": [
       "<matplotlib.figure.Figure at 0x7ff82c0aa3d0>"
      ]
     },
     "metadata": {},
     "output_type": "display_data"
    }
   ],
   "source": [
    "plt.boxplot(AVG_As)\n",
    "plt.show()"
   ]
  },
  {
   "cell_type": "code",
   "execution_count": 12,
   "metadata": {},
   "outputs": [
    {
     "data": {
      "image/png": "[encoded data removed]",
      "text/plain": [
       "<matplotlib.figure.Figure at 0x7ff823ad9590>"
      ]
     },
     "metadata": {},
     "output_type": "display_data"
    }
   ],
   "source": [
    "plt.boxplot(Best_As)\n",
    "plt.show()"
   ]
  },
  {
   "cell_type": "code",
   "execution_count": 56,
   "metadata": {},
   "outputs": [
    {
     "data": {
      "text/plain": [
       "3020"
      ]
     },
     "execution_count": 56,
     "metadata": {},
     "output_type": "execute_result"
    }
   ],
   "source": [
    "len(Best_As)"
   ]
  },
  {
   "cell_type": "code",
   "execution_count": null,
   "metadata": {},
   "outputs": [],
   "source": []
  }
 ],
 "metadata": {
  "kernelspec": {
   "display_name": "Python 2",
   "language": "python",
   "name": "python2"
  },
  "language_info": {
   "codemirror_mode": {
    "name": "ipython",
    "version": 2
   },
   "file_extension": ".py",
   "mimetype": "text/x-python",
   "name": "python",
   "nbconvert_exporter": "python",
   "pygments_lexer": "ipython2",
   "version": "2.7.14"
  }
 },
 "nbformat": 4,
 "nbformat_minor": 2
}
